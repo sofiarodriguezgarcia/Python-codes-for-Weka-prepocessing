{
 "cells": [
  {
   "cell_type": "code",
   "execution_count": 16,
   "id": "f8d0c847",
   "metadata": {},
   "outputs": [],
   "source": [
    "import nltk\n",
    "#nltk.download()\n",
    "\n",
    "\n",
    "from nltk.corpus import stopwords\n",
    "# Create a set of stop words \n",
    "stop_words = set(stopwords.words('english')) \n",
    "# Define a function to remove stop words from a sentence \n",
    "#def remove_stop_words(sentence): \n",
    "  # Split the sentence into individual words \n",
    "# words = sentence.split() \n",
    "with open(\"C:/Users/Usuario/dataTrainRaw.arff\") as text:\n",
    "    with open(\"C:/Users/Usuario/TrainRaw_noStopwords.arff\", \"w\") as new_text:\n",
    "        for sentence in text:\n",
    "            filtered_words = [word for word in sentence.split() if word.lower() not in stop_words] \n",
    "            x = ' '.join(filtered_words)\n",
    "            new_text.write(x + \"\\n\")\n",
    "\n",
    "\n",
    "\n",
    "    \n",
    "\n",
    "\n",
    "\n",
    "\n",
    "\n"
   ]
  },
  {
   "cell_type": "code",
   "execution_count": null,
   "id": "8b9a6df6",
   "metadata": {},
   "outputs": [],
   "source": []
  }
 ],
 "metadata": {
  "kernelspec": {
   "display_name": "Python 3 (ipykernel)",
   "language": "python",
   "name": "python3"
  },
  "language_info": {
   "codemirror_mode": {
    "name": "ipython",
    "version": 3
   },
   "file_extension": ".py",
   "mimetype": "text/x-python",
   "name": "python",
   "nbconvert_exporter": "python",
   "pygments_lexer": "ipython3",
   "version": "3.9.12"
  }
 },
 "nbformat": 4,
 "nbformat_minor": 5
}
